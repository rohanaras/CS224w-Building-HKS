{
 "cells": [
  {
   "cell_type": "code",
   "execution_count": null,
   "metadata": {},
   "outputs": [],
   "source": [
    "import pandas as pd\n",
    "import numpy as np\n",
    "import chartify"
   ]
  },
  {
   "cell_type": "code",
   "execution_count": null,
   "metadata": {},
   "outputs": [],
   "source": [
    "ts = list(np.logspace(-3, 4, 21))\n",
    "sf = [148, 148, 148, 148, 148, 148, 146, 147, 146, 146, 142, 138, 127, 124, 128, 127, 126, 2726, 2726, 2726, 2726]\n",
    "nyc = [395, 396, 398, 397, 397, 398, 394, 399, 405, 424, 433, 441, 474, 472, 472, 457, 466, 19982, 19982, 19982, 19982]\n",
    "hou = [999, 1000, 1000, 999, 999, 996, 994, 994, 997, 999, 1006, 1003, 987, 929, 870, 856, 832, 760, 721, 23581, 23581]\n",
    "sea = [311, 311, 311, 311, 311, 309, 308, 311, 314, 320, 329, 310, 311, 295, 317, 305, 297, 5579, 5579, 5579, 5579]\n",
    "data = np.concatenate((sf, nyc, hou, sea))\n",
    "sfl = ['San Francicso'] * 21\n",
    "nycl = ['New York City'] * 21\n",
    "houl = ['Houston'] * 21\n",
    "seal = ['Seattle'] * 21\n",
    "labels = np.concatenate((sfl, nycl, houl, seal))"
   ]
  },
  {
   "cell_type": "code",
   "execution_count": null,
   "metadata": {},
   "outputs": [],
   "source": [
    "df = pd.DataFrame()\n",
    "df['t'] = ts*4\n",
    "df['data'] = data\n",
    "df['labels'] = labels\n",
    "df.head()"
   ]
  },
  {
   "cell_type": "code",
   "execution_count": null,
   "metadata": {},
   "outputs": [],
   "source": [
    "ch = chartify.Chart(x_axis_type='log', y_axis_type='log', layout='slide_75%', blank_labels=True)\n",
    "ch.style.set_color_palette(palette='Colorblind', palette_type='categorical')\n",
    "ch.plot.line(data_frame=df, x_column='t', y_column='data', color_column='labels')\n",
    "ch.axes.set_yaxis_label('Number of clusters')\n",
    "ch.axes.set_xaxis_label('Time parameter (t)')\n",
    "ch.axes.set_xaxis_range(0.001, 10000)\n",
    "ch.figure.legend.orientation = 'vertical'\n",
    "ch.figure.legend.location = 'top_left'\n",
    "ch.show()"
   ]
  },
  {
   "cell_type": "code",
   "execution_count": null,
   "metadata": {},
   "outputs": [],
   "source": []
  }
 ],
 "metadata": {
  "kernelspec": {
   "display_name": "Python 3",
   "language": "python",
   "name": "python3"
  },
  "language_info": {
   "codemirror_mode": {
    "name": "ipython",
    "version": 3
   },
   "file_extension": ".py",
   "mimetype": "text/x-python",
   "name": "python",
   "nbconvert_exporter": "python",
   "pygments_lexer": "ipython3",
   "version": "3.6.5"
  }
 },
 "nbformat": 4,
 "nbformat_minor": 2
}
