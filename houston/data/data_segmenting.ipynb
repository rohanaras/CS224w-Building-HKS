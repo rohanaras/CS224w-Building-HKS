{
 "cells": [
  {
   "cell_type": "code",
   "execution_count": 1,
   "metadata": {},
   "outputs": [],
   "source": [
    "import pandas as pd\n",
    "import geopandas as gpd\n",
    "import pyproj as proj\n",
    "import numpy as np"
   ]
  },
  {
   "cell_type": "code",
   "execution_count": 2,
   "metadata": {},
   "outputs": [],
   "source": [
    "urb_houston = pd.read_csv('urb_houston_lu.csv')"
   ]
  },
  {
   "cell_type": "code",
   "execution_count": 3,
   "metadata": {},
   "outputs": [
    {
     "data": {
      "text/plain": [
       "array(['1D1', 'A1', 'A2', 'A3', 'A4', 'B1', 'B2', 'B3', 'B4', 'C1', 'C2',\n",
       "       'C3', 'D2', 'F1', 'F2', 'J1', 'J2', 'J3', 'J4', 'J5', 'J6', 'O1',\n",
       "       'O2', 'TMBR', 'X1', 'X2', 'X3', 'X4', 'XD', 'XE', 'XG', 'XI', 'XJ',\n",
       "       'XL', 'XU', 'XV', 'Z0', 'Z1', 'Z3', 'Z4', 'Z5', 'nan'], dtype='<U4')"
      ]
     },
     "execution_count": 3,
     "metadata": {},
     "output_type": "execute_result"
    }
   ],
   "source": [
    "np.sort(urb_houston.STATE_CLASS.unique().astype(str))"
   ]
  },
  {
   "cell_type": "code",
   "execution_count": 4,
   "metadata": {},
   "outputs": [],
   "source": [
    "p = proj.Proj(proj='utm',zone='15R',ellps='WGS84')\n",
    "\n",
    "x, y = p(urb_houston.lon.values, urb_houston.lat.values)\n",
    "urb_houston['utm15_x'] = x\n",
    "urb_houston['utm15_y'] = y\n",
    "urb_houston.to_csv('urb_houston_lu_utm.csv')"
   ]
  },
  {
   "cell_type": "code",
   "execution_count": 5,
   "metadata": {},
   "outputs": [],
   "source": [
    "urb_houston[urb_houston.STATE_CLASS == 'F1'].drop('ADDRESS', axis=1).to_csv('luF1_utm.csv', index=False)"
   ]
  },
  {
   "cell_type": "code",
   "execution_count": 6,
   "metadata": {},
   "outputs": [
    {
     "data": {
      "text/plain": [
       "STATE_CLASS\n",
       "1D1        (119, 15)\n",
       "A1      (239173, 15)\n",
       "A2         (209, 15)\n",
       "A3        (1547, 15)\n",
       "A4          (52, 15)\n",
       "B1        (3346, 15)\n",
       "B2        (4877, 15)\n",
       "B3         (427, 15)\n",
       "B4          (86, 15)\n",
       "C1       (28831, 15)\n",
       "C2        (8798, 15)\n",
       "C3          (37, 15)\n",
       "D2         (248, 15)\n",
       "F1       (23581, 15)\n",
       "F2         (488, 15)\n",
       "J1           (1, 15)\n",
       "J2          (34, 15)\n",
       "J3         (621, 15)\n",
       "J4          (44, 15)\n",
       "J5         (677, 15)\n",
       "J6           (9, 15)\n",
       "O1           (1, 15)\n",
       "O2           (1, 15)\n",
       "TMBR         (2, 15)\n",
       "X1        (8341, 15)\n",
       "X2         (873, 15)\n",
       "X3        (3992, 15)\n",
       "X4          (70, 15)\n",
       "XD          (10, 15)\n",
       "XE          (15, 15)\n",
       "XG          (23, 15)\n",
       "XI          (21, 15)\n",
       "XJ         (350, 15)\n",
       "XL           (4, 15)\n",
       "XU          (64, 15)\n",
       "XV           (1, 15)\n",
       "Z0         (223, 15)\n",
       "Z1        (9965, 15)\n",
       "Z3        (8749, 15)\n",
       "Z4       (16553, 15)\n",
       "Z5        (9742, 15)\n",
       "dtype: object"
      ]
     },
     "execution_count": 6,
     "metadata": {},
     "output_type": "execute_result"
    }
   ],
   "source": [
    "urb_houston.groupby('STATE_CLASS').apply(lambda x: x.shape)"
   ]
  },
  {
   "cell_type": "code",
   "execution_count": 7,
   "metadata": {},
   "outputs": [],
   "source": [
    "# all res but one/two family buildings\n",
    "higher_density_res = urb_houston[urb_houston.STATE_CLASS.isin(['A4', 'B1', 'B3', 'B4'])]\n",
    "higher_density_res.drop('ADDRESS', axis=1).to_csv('luHDRes_utm.csv', index=False)"
   ]
  },
  {
   "cell_type": "code",
   "execution_count": null,
   "metadata": {},
   "outputs": [],
   "source": []
  }
 ],
 "metadata": {
  "kernelspec": {
   "display_name": "mainEnv",
   "language": "python",
   "name": "mainenv"
  },
  "language_info": {
   "codemirror_mode": {
    "name": "ipython",
    "version": 3
   },
   "file_extension": ".py",
   "mimetype": "text/x-python",
   "name": "python",
   "nbconvert_exporter": "python",
   "pygments_lexer": "ipython3",
   "version": "3.6.5"
  }
 },
 "nbformat": 4,
 "nbformat_minor": 2
}
